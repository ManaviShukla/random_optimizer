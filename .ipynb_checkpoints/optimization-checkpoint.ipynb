{
 "cells": [
  {
   "cell_type": "code",
   "execution_count": 1,
   "metadata": {},
   "outputs": [],
   "source": [
    "import numpy as np\n",
    "import random\n",
    "import math"
   ]
  },
  {
   "cell_type": "markdown",
   "metadata": {},
   "source": [
    "### Problems"
   ]
  },
  {
   "cell_type": "markdown",
   "metadata": {},
   "source": [
    "#### 1. Knapsack Problem\n",
    "Objective: Given a set of items, each with a specific weight and value, determine the combination of items to include in a knapsack such that the total weight does not exceed a given limit and the total value is maximized.\n",
    "\n",
    "Fitness Function: The fitness of a bit string is the total value of the items included in the knapsack. If the total weight of the selected items exceeds the weight limit, the fitness is penalized, often by setting it to a very low value or zero."
   ]
  },
  {
   "cell_type": "code",
   "execution_count": 5,
   "metadata": {},
   "outputs": [],
   "source": [
    "def knapsack_fitness(bitstring, weights, values, weight_limit):\n",
    "    total_weight = sum(weights[i] for i in range(len(bitstring)) if bitstring[i] == 1)\n",
    "    total_value = sum(values[i] for i in range(len(bitstring)) if bitstring[i] == 1)\n",
    "    if total_weight > weight_limit:\n",
    "        return 0  # Penalize solutions that exceed the weight limit\n",
    "    return total_value\n"
   ]
  },
  {
   "cell_type": "markdown",
   "metadata": {},
   "source": [
    "#### 2. Subset Sum Problem\n",
    "Problem 7: Subset Sum Problem\n",
    "Objective: Find a subset of numbers that add up to a specific target sum.\n",
    "\n",
    "Fitness Function: The fitness of a bit string is typically calculated as the absolute difference between the subset sum and the target sum. The closer the subset sum is to the target sum, the higher the fitness."
   ]
  },
  {
   "cell_type": "code",
   "execution_count": 6,
   "metadata": {},
   "outputs": [],
   "source": [
    "def subset_sum_fitness(bitstring, numbers, target_sum):\n",
    "    subset_sum = sum(numbers[i] for i in range(len(bitstring)) if bitstring[i] == 1)\n",
    "    return -abs(target_sum - subset_sum)  # Higher fitness for closer sums\n"
   ]
  },
  {
   "cell_type": "markdown",
   "metadata": {},
   "source": [
    "### Hypothesis"
   ]
  },
  {
   "cell_type": "markdown",
   "metadata": {},
   "source": [
    "#### H1\n",
    "The Genetic Algorithm (GA) is often the best choice for the Knapsack Problem. Here's why:\n",
    "\n",
    "Diverse Population: GA works with a population of solutions, which helps explore the search space more thoroughly.\n",
    "Crossover and Mutation: These operators can combine and explore new solutions efficiently, helping to find high-quality solutions.\n",
    "Natural Selection: GA's selection process helps keep the best solutions over generations, improving the overall quality."
   ]
  },
  {
   "cell_type": "code",
   "execution_count": null,
   "metadata": {},
   "outputs": [],
   "source": []
  },
  {
   "cell_type": "markdown",
   "metadata": {},
   "source": [
    "#### H2\n",
    "Simulated Annealing (SA) might be particularly effective for the Subset Sum Problem. Here's why:\n",
    "\n",
    "Avoiding Local Optima: SA can escape local optima due to its probabilistic acceptance of worse solutions early on.\n",
    "Exploration and Exploitation: The temperature parameter helps balance exploration of the search space and exploitation of the best solutions.\n",
    "Target-Specific Fitness: Since the problem involves getting as close as possible to a target sum, SA’s ability to accept near-optimal solutions can be beneficial."
   ]
  },
  {
   "cell_type": "markdown",
   "metadata": {},
   "source": []
  }
 ],
 "metadata": {
  "kernelspec": {
   "display_name": "Python 3 (ipykernel)",
   "language": "python",
   "name": "python3"
  },
  "language_info": {
   "codemirror_mode": {
    "name": "ipython",
    "version": 3
   },
   "file_extension": ".py",
   "mimetype": "text/x-python",
   "name": "python",
   "nbconvert_exporter": "python",
   "pygments_lexer": "ipython3",
   "version": "3.9.4"
  }
 },
 "nbformat": 4,
 "nbformat_minor": 2
}
